{
 "cells": [
  {
   "cell_type": "code",
   "execution_count": 1,
   "id": "3656e95a",
   "metadata": {},
   "outputs": [
    {
     "name": "stdout",
     "output_type": "stream",
     "text": [
      "Defaulting to user installation because normal site-packages is not writeable\n",
      "Requirement already satisfied: numpy in ./.local/lib/python3.8/site-packages (1.21.0)\n",
      "\u001b[33mWARNING: You are using pip version 21.2.3; however, version 21.2.4 is available.\n",
      "You should consider upgrading via the '/usr/bin/python3 -m pip install --upgrade pip' command.\u001b[0m\n",
      "Note: you may need to restart the kernel to use updated packages.\n"
     ]
    }
   ],
   "source": [
    "pip install numpy"
   ]
  },
  {
   "cell_type": "code",
   "execution_count": 2,
   "id": "15df7072",
   "metadata": {},
   "outputs": [
    {
     "name": "stdout",
     "output_type": "stream",
     "text": [
      "Defaulting to user installation because normal site-packages is not writeable\n",
      "Requirement already satisfied: plotly in /usr/local/lib/python3.8/dist-packages (5.1.0)\n",
      "Requirement already satisfied: tenacity>=6.2.0 in /usr/local/lib/python3.8/dist-packages (from plotly) (8.0.1)\n",
      "Requirement already satisfied: six in /usr/lib/python3/dist-packages (from plotly) (1.14.0)\n",
      "\u001b[33mWARNING: You are using pip version 21.2.3; however, version 21.2.4 is available.\n",
      "You should consider upgrading via the '/usr/bin/python3 -m pip install --upgrade pip' command.\u001b[0m\n",
      "Note: you may need to restart the kernel to use updated packages.\n"
     ]
    }
   ],
   "source": [
    "pip install plotly"
   ]
  },
  {
   "cell_type": "code",
   "execution_count": 3,
   "id": "bddf4cd2",
   "metadata": {},
   "outputs": [],
   "source": [
    "import numpy as np\n",
    "from numpy import float32\n",
    "from numpy import float64\n",
    "import plotly\n",
    "import plotly.graph_objs as go\n",
    "from math import sin\n",
    "from math import log"
   ]
  },
  {
   "cell_type": "code",
   "execution_count": 4,
   "id": "b1128238",
   "metadata": {},
   "outputs": [],
   "source": [
    "def sin_32(pred: float32, x: float32, fact_num: float32, eps: float32) -> float32:\n",
    "    if abs(pred) < eps:\n",
    "        return float32(0)\n",
    "    tmp = float32(float32(pred * float32(float32(float32(x * x) / fact_num))) / (fact_num - 1))\n",
    "    return float32(float32(tmp) - float32(sin_32(float32(tmp), float32(x), float32(fact_num + 2), float32(eps))))\n",
    "\n",
    "def sin_64(pred: float64, x: float64, fact_num: float64, eps: float64) -> float64:\n",
    "    if abs(pred) < eps:\n",
    "        return float64(0)\n",
    "    tmp = float64(float64(pred * float64(float64(float64(x * x) / fact_num))) / (fact_num - 1))\n",
    "    return float64(float64(tmp) - float64(sin_64(float64(tmp), float64(x), float64(fact_num + 2), float64(eps))))"
   ]
  },
  {
   "cell_type": "code",
   "execution_count": null,
   "id": "b364ab2e",
   "metadata": {},
   "outputs": [],
   "source": []
  },
  {
   "cell_type": "code",
   "execution_count": 9,
   "id": "3019772f",
   "metadata": {},
   "outputs": [
    {
     "data": {
      "text/plain": [
       "'Sinus_error_in_Taylor_series_expansion.html'"
      ]
     },
     "execution_count": 9,
     "metadata": {},
     "output_type": "execute_result"
    }
   ],
   "source": [
    "fig = go.Figure()\n",
    "fig.set_subplots(rows=1, cols=3, subplot_titles=(\n",
    "        'float32', 'float64', 'Both'\n",
    "    ), shared_yaxes=True)\n",
    "fig.update_layout(showlegend=True, title='Sinus error in Taylor series expansion')\n",
    "fig.update_yaxes(type=\"log\") \n",
    "\n",
    "x = []\n",
    "y = []\n",
    "for i in np.arange(0, 21, 0.2):\n",
    "    x.append(i)\n",
    "    y.append(float32(abs(float32(float32(i) - float32(sin_32(float32(i), float32(i), float32(3), float32(0.0000000000000000000000000001)))) - float32(sin(i)))))\n",
    "\n",
    "fig.add_trace(\n",
    "        go.Scatter(\n",
    "            x=x,\n",
    "            y=y,\n",
    "            mode='lines+markers',\n",
    "            name='float32',\n",
    "            showlegend=True,\n",
    "        ), row=1, col=1\n",
    "    )\n",
    "\n",
    "fig.add_trace(\n",
    "        go.Scatter(\n",
    "            x=x,\n",
    "            y=y,\n",
    "            mode='lines+markers',\n",
    "            name='float32',\n",
    "            showlegend=True,\n",
    "        ), row=1, col=3\n",
    "    )\n",
    "\n",
    "\n",
    "             \n",
    "x = []\n",
    "y = []\n",
    "for i in np.arange(0, 21, 0.2):\n",
    "    x.append(i)\n",
    "    y.append(float64(abs(float64(float64(i) - float64(sin_64(float64(i), float64(i), float64(3), float64(0.0000000000000000000000000000001)))) - float64(sin(i)))))\n",
    "\n",
    "fig.add_trace(\n",
    "        go.Scatter(\n",
    "            x=x,\n",
    "            y=y,\n",
    "            mode='lines+markers',\n",
    "            name='float64',\n",
    "            showlegend=True,\n",
    "        ), row=1, col=2\n",
    "    )\n",
    "\n",
    "fig.add_trace(\n",
    "        go.Scatter(\n",
    "            x=x,\n",
    "            y=y,\n",
    "            mode='lines+markers',\n",
    "            name='float64',\n",
    "            showlegend=True,\n",
    "        ), row=1, col=3\n",
    "    )\n",
    "\n",
    "plotly.offline.plot(fig, filename='Sinus_error_in_Taylor_series_expansion.html')\n",
    "             "
   ]
  },
  {
   "cell_type": "code",
   "execution_count": null,
   "id": "b3ac1e23",
   "metadata": {},
   "outputs": [],
   "source": []
  },
  {
   "cell_type": "code",
   "execution_count": null,
   "id": "bf425cec",
   "metadata": {},
   "outputs": [],
   "source": []
  }
 ],
 "metadata": {
  "kernelspec": {
   "display_name": "Python 3 (ipykernel)",
   "language": "python",
   "name": "python3"
  },
  "language_info": {
   "codemirror_mode": {
    "name": "ipython",
    "version": 3
   },
   "file_extension": ".py",
   "mimetype": "text/x-python",
   "name": "python",
   "nbconvert_exporter": "python",
   "pygments_lexer": "ipython3",
   "version": "3.8.10"
  }
 },
 "nbformat": 4,
 "nbformat_minor": 5
}
