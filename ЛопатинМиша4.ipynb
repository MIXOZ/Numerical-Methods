{
 "cells": [
  {
   "cell_type": "code",
   "execution_count": 18,
   "id": "4cf9b8ab",
   "metadata": {},
   "outputs": [],
   "source": [
    "from math import sin, cos, pi\n",
    "import numpy as np\n",
    "import matplotlib.pyplot as plt\n",
    "import random\n",
    "from scipy.interpolate import lagrange"
   ]
  },
  {
   "cell_type": "markdown",
   "id": "6cebabf9",
   "metadata": {},
   "source": [
    "## Рефернсное значение\n",
    "посчитаем интеграл "
   ]
  },
  {
   "cell_type": "code",
   "execution_count": 15,
   "id": "cbf6e563",
   "metadata": {},
   "outputs": [],
   "source": [
    "INT = 1.75585\n",
    "\n",
    "def calculate_f(x, n=102):\n",
    "    ans = 0\n",
    "    for i in range(3, n):\n",
    "        ans += 1 / (i ** 2 - i - x)\n",
    "    return ans"
   ]
  },
  {
   "cell_type": "markdown",
   "id": "83af870e",
   "metadata": {},
   "source": [
    "Подсчет ряда возьмем из предыдущего дз, как и оценку  на число членов"
   ]
  },
  {
   "cell_type": "code",
   "execution_count": 40,
   "id": "fc63c753",
   "metadata": {},
   "outputs": [],
   "source": [
    "N = 1000001\n",
    "\n",
    "def calculate_nth_term(n, z):\n",
    "    return 1.0 / (n ** 2 - n - z)\n",
    "\n",
    "def calculate_f(z):\n",
    "    part_sum = 0\n",
    "    for i in range(3, N):\n",
    "        part_sum += calculate_nth_term(i, z)\n",
    "    return part_sum"
   ]
  },
  {
   "cell_type": "markdown",
   "id": "b93b321e",
   "metadata": {},
   "source": [
    "## Формула трапеций"
   ]
  },
  {
   "cell_type": "code",
   "execution_count": 41,
   "id": "4400e4c6",
   "metadata": {},
   "outputs": [],
   "source": [
    "\n",
    "def calculate_int_tr(u):\n",
    "    X = np.linspace(0, 3, num = u)\n",
    "    ans = 0 \n",
    "    for i in range(0, len(X) - 1):\n",
    "        ans += (calculate_f(X[i]) + calculate_f(X[i + 1])) * (X[i + 1] - X[i]) / 2\n",
    "    return ans"
   ]
  },
  {
   "cell_type": "code",
   "execution_count": 47,
   "id": "240d48e0",
   "metadata": {},
   "outputs": [
    {
     "data": {
      "text/plain": [
       "1.7566830588890234"
      ]
     },
     "execution_count": 47,
     "metadata": {},
     "output_type": "execute_result"
    }
   ],
   "source": [
    "calculate_int_tr(10)"
   ]
  },
  {
   "cell_type": "code",
   "execution_count": 58,
   "id": "f8ab85f9",
   "metadata": {},
   "outputs": [
    {
     "data": {
      "image/png": "[encoded data removed]",
      "text/plain": [
       "<Figure size 432x288 with 1 Axes>"
      ]
     },
     "metadata": {
      "needs_background": "light"
     },
     "output_type": "display_data"
    }
   ],
   "source": [
    "interval = np.arange(10, 100, 10)\n",
    "plt.loglog(interval, [abs(calculate_int_tr(i) - INT) for i in interval])\n",
    "plt.show()"
   ]
  },
  {
   "cell_type": "markdown",
   "id": "c83aa8d4",
   "metadata": {},
   "source": [
    "## Формула Симпсона"
   ]
  },
  {
   "cell_type": "code",
   "execution_count": 52,
   "id": "ecee1884",
   "metadata": {},
   "outputs": [],
   "source": [
    "def calculate_int_sm(u):\n",
    "    \n",
    "    X = np.linspace(0, 3, num = u - 1)\n",
    "    \n",
    "    ans = 0\n",
    "    for i in range(0, len(X) - 1, 2):\n",
    "        ans += calculate_f(X[i - 1]) + 4 * calculate_f(X[i]) + calculate_f(X[i + 1])\n",
    "    return ans / (u - 1)"
   ]
  },
  {
   "cell_type": "code",
   "execution_count": 53,
   "id": "faec523a",
   "metadata": {},
   "outputs": [
    {
     "data": {
      "text/plain": [
       "1.5204292867152054"
      ]
     },
     "execution_count": 53,
     "metadata": {},
     "output_type": "execute_result"
    }
   ],
   "source": [
    "calculate_int_sm(10)"
   ]
  },
  {
   "cell_type": "code",
   "execution_count": 57,
   "id": "cdd0ee73",
   "metadata": {},
   "outputs": [
    {
     "data": {
      "image/png": "[encoded data removed]",
      "text/plain": [
       "<Figure size 432x288 with 1 Axes>"
      ]
     },
     "metadata": {
      "needs_background": "light"
     },
     "output_type": "display_data"
    }
   ],
   "source": [
    "interval = np.arange(10, 100, 10)\n",
    "plt.loglog(interval, [abs(calculate_int_sm(i) - INT) for i in interval])\n",
    "plt.show()"
   ]
  },
  {
   "cell_type": "markdown",
   "id": "019edf46",
   "metadata": {},
   "source": [
    "Из графиков видно, что реальная погрешность ведет себя так же как и теоретическая"
   ]
  },
  {
   "cell_type": "code",
   "execution_count": null,
   "id": "a8a31155",
   "metadata": {},
   "outputs": [],
   "source": []
  }
 ],
 "metadata": {
  "kernelspec": {
   "display_name": "Python 3 (ipykernel)",
   "language": "python",
   "name": "python3"
  },
  "language_info": {
   "codemirror_mode": {
    "name": "ipython",
    "version": 3
   },
   "file_extension": ".py",
   "mimetype": "text/x-python",
   "name": "python",
   "nbconvert_exporter": "python",
   "pygments_lexer": "ipython3",
   "version": "3.8.10"
  }
 },
 "nbformat": 4,
 "nbformat_minor": 5
}
